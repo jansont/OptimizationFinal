{
  "nbformat": 4,
  "nbformat_minor": 0,
  "metadata": {
    "colab": {
      "name": "ECSE 507 Final.ipynb",
      "provenance": []
    },
    "kernelspec": {
      "name": "python3",
      "display_name": "Python 3"
    },
    "language_info": {
      "name": "python"
    }
  },
  "cells": [
    {
      "cell_type": "code",
      "execution_count": null,
      "metadata": {
        "id": "PFpsm9ATmZFJ"
      },
      "outputs": [],
      "source": [
        "import numpy as np\n",
        "from numpy.linalg import norm"
      ]
    },
    {
      "cell_type": "markdown",
      "source": [
        "## Steepest Descent Algorithm"
      ],
      "metadata": {
        "id": "Zc49ax1MmdGa"
      }
    },
    {
      "cell_type": "code",
      "source": [
        "def gradient_descent(x0,\n",
        "                     cost_function,\n",
        "                     gradient_function,\n",
        "                     threshold = 1e-8, \n",
        "                     step_size = 1e-4, \n",
        "                     log = True):\n",
        "\n",
        "    i = 0\n",
        "    x = x0\n",
        "    gradient = gradient_function(x)\n",
        "    while norm(gradient) >= threshold: \n",
        "        gradient = gradient_function(x)\n",
        "        x = x - step_size*gradient\n",
        "        minimum = cost_function(x)\n",
        "        i += 1\n",
        "        if log and i % 1e4 == 0: \n",
        "            print(f'x = {x}, V(x) = {minimum:.5f}')\n",
        "    return x, minimum\n"
      ],
      "metadata": {
        "id": "aOr8ENz8qeK9"
      },
      "execution_count": null,
      "outputs": []
    },
    {
      "cell_type": "markdown",
      "source": [
        "## Armijo Step Size Selection"
      ],
      "metadata": {
        "id": "ymdM1fmm7kAT"
      }
    },
    {
      "cell_type": "code",
      "source": [
        "#not sure here\n",
        "def armijo(x, cost_function, search_dir, gamma = 1.5, r = 0.8): \n",
        "    p = 0\n",
        "    while True: \n",
        "        #BIG P ????\n",
        "        condition = cost_function(gamma**P)\n",
        "        check = cost_function(x + (gamma**p) * search_dir )\n",
        "        if check >= condition: \n",
        "            break\n",
        "        p += 1\n",
        "    q = 0\n",
        "    while True: \n",
        "        step_size = r**q * gamma**p\n",
        "        condition = cost_function(step_size)\n",
        "        check = cost_function(x + step_size * search_dir)\n",
        "        if check <= condition: \n",
        "            break\n",
        "        q += 1\n",
        "    return step_size\n"
      ],
      "metadata": {
        "id": "tIuwoVFQ7qIv"
      },
      "execution_count": null,
      "outputs": []
    },
    {
      "cell_type": "markdown",
      "source": [
        "## Conjugate Gradient Algorithm"
      ],
      "metadata": {
        "id": "5ijD0fRi7fFL"
      }
    },
    {
      "cell_type": "code",
      "source": [
        "def conjugate_gradient(x0,\n",
        "                     cost_function,\n",
        "                     gradient_function,\n",
        "                     threshold = 1e-8, \n",
        "                     step_size = 1e-4, \n",
        "                     log = True):\n",
        "    i = 0\n",
        "    prev_gradient = gradient_function(x0)\n",
        "    search_direction = prev_gradient * -1\n",
        "    while norm(prev_gradient) >= threshold: \n",
        "        #add armijo step size\n",
        "        x1 = x0 + step_size * search_direction\n",
        "        next_gradient = gradient_function(x1)\n",
        "        beta = np.dot((next_gradient - prev_gradient) , next_gradient)\n",
        "        beta /= np.dot(prev_gradient,prev_gradient)\n",
        "        search_direction = -1*next_gradient + beta * search_direction\n",
        "        prev_gradient = next_gradient\n",
        "        x0 = x1\n",
        "        minimum = cost_function(x0)\n",
        "        if log and i%1e4 == 0: \n",
        "            print(f'x = {x0}, V(x) = {minimum:.5f}')\n",
        "    return x0, minimum"
      ],
      "metadata": {
        "id": "MmS4PHHWytzp"
      },
      "execution_count": null,
      "outputs": []
    },
    {
      "cell_type": "markdown",
      "source": [
        "### Cost Function A"
      ],
      "metadata": {
        "id": "lrgjOwrpr6s7"
      }
    },
    {
      "cell_type": "code",
      "source": [
        "def V_a(x):\n",
        "    a = np.array([5])\n",
        "    b = np.array([1, 4, 5, 4, 2, 1])\n",
        "    C = [[9, 1, 7, 5, 4, 7], \n",
        "        [1, 11, 4, 2, 7, 5], \n",
        "        [7, 4, 13, 5, 0, 7], \n",
        "        [5, 2, 5, 17, 1, 9], \n",
        "        [4, 7, 0, 1, 21, 15], \n",
        "        [7, 5, 7, 9, 5, 27]]\n",
        "    C = np.array(C)\n",
        "    return 5 + b@x + x @ (C @ x)\n",
        "\n",
        "def gradV_a(x):\n",
        "    b = np.array([1, 4, 5, 4, 2, 1])\n",
        "    C = [[9, 1, 7, 5, 4, 7], \n",
        "        [1, 11, 4, 2, 7, 5], \n",
        "        [7, 4, 13, 5, 0, 7], \n",
        "        [5, 2, 5, 17, 1, 9], \n",
        "        [4, 7, 0, 1, 21, 15], \n",
        "        [7, 5, 7, 9, 5, 27]]\n",
        "    C = np.array(C)\n",
        "    return b + 2 * C @ x\n"
      ],
      "metadata": {
        "id": "fQBcVlygsP_y"
      },
      "execution_count": null,
      "outputs": []
    },
    {
      "cell_type": "code",
      "source": [
        "x0 = np.random.uniform(low=-5, high=5, size=(6,))"
      ],
      "metadata": {
        "id": "2nccDEZu0aCR"
      },
      "execution_count": null,
      "outputs": []
    },
    {
      "cell_type": "code",
      "source": [
        "x, minimum =  gradient_descent(x0, V_a, gradV_a, step_size = 1e-4, log = True)"
      ],
      "metadata": {
        "colab": {
          "base_uri": "https://localhost:8080/"
        },
        "id": "fxhaMPRsuuTN",
        "outputId": "7d3d5658-d95e-4525-bcff-cbc552d5f0af"
      },
      "execution_count": null,
      "outputs": [
        {
          "output_type": "stream",
          "name": "stdout",
          "text": [
            "x = [ 0.27647524 -0.009807   -0.32169255 -0.12849129 -0.13562609  0.06301918], V(x) = 3.94362\n",
            "x = [ 0.2850295  -0.00511308 -0.32804346 -0.12923417 -0.13855971  0.06231839], V(x) = 3.94612\n",
            "x = [ 0.28519496 -0.00502229 -0.3281663  -0.12924854 -0.13861646  0.06230483], V(x) = 3.94617\n",
            "x = [ 0.28519816 -0.00502053 -0.32816868 -0.12924882 -0.13861755  0.06230457], V(x) = 3.94617\n"
          ]
        }
      ]
    },
    {
      "cell_type": "code",
      "source": [
        "x, minimum =  conjugate_gradient(x0, V_a, gradV_a, step_size = 1e-4, log = False)\n",
        "print(f'x = {x}, V(x) = {minimum:.5f}')"
      ],
      "metadata": {
        "colab": {
          "base_uri": "https://localhost:8080/"
        },
        "id": "EziVCiCb30Ct",
        "outputId": "12a2688a-d87b-4e36-f95b-dab52a8af49e"
      },
      "execution_count": null,
      "outputs": [
        {
          "output_type": "stream",
          "name": "stdout",
          "text": [
            "x = [ 0.28519823 -0.0050205  -0.32816872 -0.12924883 -0.13861758  0.06230457], V(x) = 3.94617\n"
          ]
        }
      ]
    },
    {
      "cell_type": "markdown",
      "source": [
        "## Cost Function B"
      ],
      "metadata": {
        "id": "MOoqkp_E3usr"
      }
    },
    {
      "cell_type": "code",
      "source": [
        "def V_b(x):\n",
        "    x1, x2 = x\n",
        "    num = ((x1**2 + 1)*(2*x2**2 + 1))**0.5\n",
        "    den = x1**2 + x2**2 + 0.5\n",
        "    return -num / den\n",
        "\n",
        "def gradV_b(x):\n",
        "    x1, x2 = x\n",
        "\n",
        "    num = (-x1**3 + x1*x2**2 - 1.5*x1)*(2*x2**2+1)**0.5\n",
        "    den = (x1**2 + x2**2 + 0.5)**2 * (x1**2 + 1)**0.5\n",
        "    dx1 = -num / den\n",
        "\n",
        "    num = (-2*x2**3 + 2*x2*x1**2 - x2)*(x1**2+1)**0.5\n",
        "    den = (x1**2 + x2**2 + 0.5)**2 * (2*x2**2 + 1)**0.5\n",
        "    dx2 = -num / den\n",
        "\n",
        "    return np.array([x1,x2])\n",
        "    "
      ],
      "metadata": {
        "id": "p8deR3XH3hdN"
      },
      "execution_count": null,
      "outputs": []
    },
    {
      "cell_type": "code",
      "source": [
        "x0 = np.random.uniform(low=-5, high=5, size=(2,))"
      ],
      "metadata": {
        "id": "eM73Z06v6BKQ"
      },
      "execution_count": null,
      "outputs": []
    },
    {
      "cell_type": "code",
      "source": [
        "x, minimum =  gradient_descent(x0, V_b, gradV_b, step_size = 1e-4, log = True)"
      ],
      "metadata": {
        "colab": {
          "base_uri": "https://localhost:8080/"
        },
        "id": "dVgDhRd06Ew4",
        "outputId": "e7fb19d8-8a00-42ee-9cf4-7469ff548d06"
      },
      "execution_count": null,
      "outputs": [
        {
          "output_type": "stream",
          "name": "stdout",
          "text": [
            "x = [ 1.05575779 -1.72164   ], V(x) = -0.83596\n",
            "x = [ 0.38837216 -0.63332429], V(x) = -1.36905\n",
            "x = [ 0.14286699 -0.23297534], V(x) = -1.85069\n",
            "x = [ 0.0525552  -0.08570255], V(x) = -1.97744\n",
            "x = [ 0.01933301 -0.03152663], V(x) = -1.99690\n",
            "x = [ 0.00711186 -0.01159742], V(x) = -1.99958\n",
            "x = [ 0.00261618 -0.00426624], V(x) = -1.99994\n",
            "x = [ 0.00096239 -0.00156938], V(x) = -1.99999\n",
            "x = [ 0.00035403 -0.00057731], V(x) = -2.00000\n",
            "x = [ 0.00013023 -0.00021237], V(x) = -2.00000\n",
            "x = [ 4.79073681e-05 -7.81232612e-05], V(x) = -2.00000\n",
            "x = [ 1.76232546e-05 -2.87385046e-05], V(x) = -2.00000\n",
            "x = [ 6.48290886e-06 -1.05717764e-05], V(x) = -2.00000\n",
            "x = [ 2.38480964e-06 -3.88894472e-06], V(x) = -2.00000\n",
            "x = [ 8.77278569e-07 -1.43059128e-06], V(x) = -2.00000\n",
            "x = [ 3.22716612e-07 -5.26258804e-07], V(x) = -2.00000\n",
            "x = [ 1.18714871e-07 -1.93590114e-07], V(x) = -2.00000\n",
            "x = [ 4.36705766e-08 -7.12142620e-08], V(x) = -2.00000\n",
            "x = [ 1.60647040e-08 -2.61969529e-08], V(x) = -2.00000\n",
            "x = [ 5.90957882e-09 -9.63683852e-09], V(x) = -2.00000\n"
          ]
        }
      ]
    },
    {
      "cell_type": "code",
      "source": [
        "x, minimum =  conjugate_gradient(x0, V_b, gradV_b, step_size = 1e-4, log = False)\n",
        "print(f'x = {x}, V(x) = {minimum:.5f}')"
      ],
      "metadata": {
        "id": "K1aNPfYt8UlM",
        "colab": {
          "base_uri": "https://localhost:8080/"
        },
        "outputId": "70d25ef9-5c1e-480c-a780-c396a0d840da"
      },
      "execution_count": null,
      "outputs": [
        {
          "output_type": "stream",
          "name": "stdout",
          "text": [
            "x = [ 5.22722522e-09 -8.52411430e-09], V(x) = -2.00000\n"
          ]
        }
      ]
    },
    {
      "cell_type": "code",
      "source": [
        ""
      ],
      "metadata": {
        "id": "7pGXufjM5NCB"
      },
      "execution_count": null,
      "outputs": []
    }
  ]
}