{
 "cells": [
  {
   "cell_type": "code",
   "execution_count": 1,
   "metadata": {},
   "outputs": [],
   "source": [
    "import numpy as np\n",
    "from algorithms import steepest_descent, conjugate_gradient, secant, Finite_Difference, armijo\n",
    "from cost_functions import V_a, gradV_a, V_b, gradV_b, V_c, gradV_c\n",
    "from numpy.linalg import norm, eig\n",
    "from scipy.optimize import minimize\n",
    "import time\n",
    "from sklearn.metrics import mean_squared_error\n",
    "from decimal import Decimal\n",
    "from algorithms import barrier_fn, penalty_fn\n",
    "from cost_functions import V_1, h1_1, h2_1,\n",
    "\n"
   ]
  },
  {
   "cell_type": "code",
   "execution_count": 2,
   "metadata": {},
   "outputs": [],
   "source": [
    "x0 = np.array([[0.1],[0.7]])\n",
    "\n",
    "ineq_cons = {'type': 'ineq',\n",
    "             'fun' : h1_1}\n",
    "eq_cons = {'type': 'eq',\n",
    "           'fun' : h2_1,}\n",
    "\n",
    "t0 = time.time()\n",
    "res = minimize(V_1, x0, method='SLSQP', constraints=[eq_cons, ineq_cons])\n",
    "t = time.time() - t0\n",
    "\n",
    "\n",
    "xtrue = res.x\n",
    "i = res.nit\n",
    "mins = res.fun\n",
    "\n",
    "rms = mean_squared_error(xtrue, xtrue)\n",
    "\n"
   ]
  },
  {
   "cell_type": "code",
   "execution_count": 16,
   "metadata": {},
   "outputs": [
    {
     "name": "stdout",
     "output_type": "stream",
     "text": [
      "0.70713 \t 0.70708 \t 1.58579 \t 0 \t 0.07550907135009766 \t 6\n"
     ]
    }
   ],
   "source": [
    "print(f'{x[0].item() :.5f} \\t {x[1].item() :.5f} \\t {mins:.5f} \\t {Decimal(rms)} \\t {t} \\t {i}')"
   ]
  },
  {
   "cell_type": "code",
   "execution_count": 21,
   "metadata": {},
   "outputs": [
    {
     "name": "stdout",
     "output_type": "stream",
     "text": [
      "0.70735 \t 0.70736 \t 1.58579 \t 6.31E-8 \t 4.765 \t 5\n"
     ]
    }
   ],
   "source": [
    "x0 = np.array([[0.1],[0.7]])\n",
    "\n",
    "# test penalty function\n",
    "\n",
    "t0 = time.time()\n",
    "x, minimum, x_hist1, V_hist=  penalty_fn(x0,\n",
    "                        V_1,\n",
    "                        gradient_function=None,\n",
    "                        ecp=h2_1,\n",
    "                        icp=[h1_1],\n",
    "                        step_size = 'armijo',\n",
    "                        threshold = 1e-3, \n",
    "                        log = False, \n",
    "                        h = 1e-5, \n",
    "                        max_iter = 1e5, \n",
    "                        fd_method = 'central', \n",
    "                        track_history = True)\n",
    "t = time.time() - t0\n",
    "rms = mean_squared_error(x, xtrue)\n",
    "\n",
    "\n",
    "print(f'{x[0].item() :.5f} \\t {x[1].item() :.5f} \\t {mins:.5f} \\t {Decimal(rms):.2E} \\t {t:.3f} \\t {len(x_hist1)}')\n"
   ]
  },
  {
   "cell_type": "code",
   "execution_count": 3,
   "metadata": {},
   "outputs": [
    {
     "name": "stdout",
     "output_type": "stream",
     "text": [
      "0.70735 \t 0.70736 \t 1.58579 \t 6.31E-8 \t 4.655 \t 5\n"
     ]
    }
   ],
   "source": [
    "x0 = np.array([[0.1],[0.7]])\n",
    "\n",
    "t0 = time.time()\n",
    "x, minimum, x_hist1, V_hist=  penalty_fn(x0,\n",
    "                        V_1,\n",
    "                        gradient_function=None,\n",
    "                        ecp=h2_1,\n",
    "                        icp=[h1_1],\n",
    "                        step_size = 'armijo',\n",
    "                        threshold = 1e-3, \n",
    "                        log = False, \n",
    "                        h = 1e-5, \n",
    "                        max_iter = 1e5, \n",
    "                        fd_method = 'central', \n",
    "                        track_history = True)\n",
    "t = time.time() - t0\n",
    "rms = mean_squared_error(x, xtrue)\n",
    "\n",
    "\n",
    "print(f'{x[0].item() :.5f} \\t {x[1].item() :.5f} \\t {mins:.5f} \\t {Decimal(rms):.2E} \\t {t:.3f} \\t {len(x_hist1)}')\n"
   ]
  },
  {
   "cell_type": "code",
   "execution_count": null,
   "metadata": {},
   "outputs": [],
   "source": [
    "x0 = np.array([[0.1],[0.7]])\n",
    "\n",
    "t0 = time.time()\n",
    "x, minimum, x_hist1, V_hist=  penalty_fn(x0,\n",
    "                        V_1,\n",
    "                        gradient_function=None,\n",
    "                        ecp=h2_1,\n",
    "                        icp=[h1_1],\n",
    "                        step_size = 'armijo',\n",
    "                        threshold = 1e-3, \n",
    "                        log = False, \n",
    "                        h = 1e-5, \n",
    "                        max_iter = 1e5, \n",
    "                        fd_method = 'central', \n",
    "                        track_history = True)\n",
    "t = time.time() - t0\n",
    "rms = mean_squared_error(x, xtrue)\n",
    "\n",
    "\n",
    "print(f'{x[0].item() :.5f} \\t {x[1].item() :.5f} \\t {minimum:.5f} \\t {Decimal(rms):.2E} \\t {t:.3f} \\t {len(x_hist1)}')\n"
   ]
  }
 ],
 "metadata": {
  "interpreter": {
   "hash": "aee8b7b246df8f9039afb4144a1f6fd8d2ca17a180786b69acc140d282b71a49"
  },
  "kernelspec": {
   "display_name": "Python 3.9.1 64-bit",
   "language": "python",
   "name": "python3"
  },
  "language_info": {
   "codemirror_mode": {
    "name": "ipython",
    "version": 3
   },
   "file_extension": ".py",
   "mimetype": "text/x-python",
   "name": "python",
   "nbconvert_exporter": "python",
   "pygments_lexer": "ipython3",
   "version": "3.9.1"
  },
  "orig_nbformat": 4
 },
 "nbformat": 4,
 "nbformat_minor": 2
}
