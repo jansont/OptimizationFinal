{
 "cells": [
  {
   "cell_type": "code",
   "execution_count": 6,
   "metadata": {},
   "outputs": [],
   "source": [
    "import numpy as np\n",
    "from algorithms import steepest_descent, conjugate_gradient, secant, Finite_Difference, armijo\n",
    "from cost_functions import V_a, gradV_a, V_b, gradV_b, V_c, gradV_c\n",
    "from numpy.linalg import norm, eig\n",
    "from scipy.optimize import minimize\n"
   ]
  },
  {
   "cell_type": "code",
   "execution_count": 11,
   "metadata": {},
   "outputs": [
    {
     "name": "stdout",
     "output_type": "stream",
     "text": [
      "[-9.63912037e-09 -7.36267841e-09]\n",
      "-1.9999999999999996\n"
     ]
    }
   ],
   "source": [
    "x0 = np.random.uniform(low=-2, high=2, size=(1,2)).T\n",
    "a = minimize(V_b, x0)\n",
    "print(a.x)\n",
    "print(V_b(a.x))"
   ]
  },
  {
   "cell_type": "code",
   "execution_count": 21,
   "metadata": {},
   "outputs": [
    {
     "data": {
      "text/plain": [
       "(array([[ 1.05259187],\n",
       "        [-1.79073921]]),\n",
       " -16.74328929863139)"
      ]
     },
     "execution_count": 21,
     "metadata": {},
     "output_type": "execute_result"
    }
   ],
   "source": [
    "x, minimum, x_hist, V_hist =  steepest_descent(x0,\n",
    "                                                V_c,\n",
    "                                                None,\n",
    "                                                step_size = 'armijo',\n",
    "                                                threshold = 1e-4, \n",
    "                                                log = False, \n",
    "                                                h = 1e-8, \n",
    "                                                max_iter = 1e5, \n",
    "                                                fd_method = 'central', \n",
    "                                                track_history = True)\n",
    "\n",
    "x, minimum"
   ]
  },
  {
   "cell_type": "code",
   "execution_count": 22,
   "metadata": {},
   "outputs": [
    {
     "data": {
      "text/plain": [
       "(array([[ 1.05259187],\n",
       "        [-1.79073921]]),\n",
       " -16.74328929863139)"
      ]
     },
     "execution_count": 22,
     "metadata": {},
     "output_type": "execute_result"
    }
   ],
   "source": [
    "\n",
    "x, minimum"
   ]
  },
  {
   "cell_type": "code",
   "execution_count": null,
   "metadata": {},
   "outputs": [],
   "source": []
  }
 ],
 "metadata": {
  "interpreter": {
   "hash": "aee8b7b246df8f9039afb4144a1f6fd8d2ca17a180786b69acc140d282b71a49"
  },
  "kernelspec": {
   "display_name": "Python 3.9.1 64-bit",
   "language": "python",
   "name": "python3"
  },
  "language_info": {
   "codemirror_mode": {
    "name": "ipython",
    "version": 3
   },
   "file_extension": ".py",
   "mimetype": "text/x-python",
   "name": "python",
   "nbconvert_exporter": "python",
   "pygments_lexer": "ipython3",
   "version": "3.9.1"
  },
  "orig_nbformat": 4
 },
 "nbformat": 4,
 "nbformat_minor": 2
}
