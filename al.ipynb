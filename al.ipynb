{
 "cells": [
  {
   "cell_type": "code",
   "execution_count": null,
   "metadata": {},
   "outputs": [],
   "source": [
    "import numpy as np\n",
    "from algorithms import steepest_descent, conjugate_gradient, secant, Finite_Difference, armijo\n",
    "from cost_functions import V_a, gradV_a, V_b, gradV_b\n",
    "from numpy.linalg import norm, eig\n",
    "from functools import partial\n"
   ]
  },
  {
   "cell_type": "code",
   "execution_count": 16,
   "metadata": {},
   "outputs": [],
   "source": [
    "def augmented_lagrangian(x0, \n",
    "                         cost_function, \n",
    "                         equality_constraints = None, \n",
    "                         inequality_constraints = None,\n",
    "                         threshold = 1e-8, \n",
    "                         sigma_max = 1e8, \n",
    "                         track_history = False, \n",
    "                         log = False):\n",
    "\n",
    "    def phi(x):\n",
    "        cost = cost_function(x)\n",
    "        lambda_eq = lambd[:num_ec , :]\n",
    "        lambda_ineq = lambd[num_ec:num_c , :]\n",
    "        sigma_eq = sigma[:num_ec , :]\n",
    "        sigma_ineq = sigma[num_ec:num_c , :]\n",
    "    \n",
    "        for constraint in equality_constraints:\n",
    "            ec = constraint(x)\n",
    "            cost -= lambda_eq * ec + 0.5 * sigma_eq * ec **2\n",
    "        for i,constraint in enumerate(inequality_constraints):\n",
    "            ic = constraint(x)\n",
    "            if ic <= sigma_ineq[i] / sigma_ineq[i]: \n",
    "                t = -lambda_ineq[i] * ic + 0.5 * sigma_ineq[i] * ic**2 \n",
    "            else:\n",
    "                t = -0.5 * lambda_ineq[i]**2 / sigma_ineq[i] \n",
    "            cost += t\n",
    "        return(cost)\n",
    "\n",
    "    x_history, V_history = [],[]\n",
    "    num_ec = len(equality_constraints)\n",
    "    num_ic = len(inequality_constraints)\n",
    "    num_c = num_ec + num_ic\n",
    "\n",
    "    lambd = np.zeros((num_c,1))\n",
    "    sigma = np.ones((num_c,1))\n",
    "\n",
    "    cost = 1e12 * sigma\n",
    "    x = x0\n",
    "    minimum = cost_function(x)\n",
    "    x_history.append(x), V_history.append(minimum)\n",
    "    j = 0\n",
    "    while norm(cost) > threshold: \n",
    "\n",
    "        x,_ = steepest_descent(x,\n",
    "                               phi,\n",
    "                               None,\n",
    "                               step_size = 'armijo',\n",
    "                               threshold = threshold, \n",
    "                               max_iter = 1e3)\n",
    "        previous_cost = cost\n",
    "        inequality_cost = [cost(x) for cost in equality_constraints]\n",
    "        equality_cost = [cost(x) for cost in inequality_constraints]\n",
    "        cost = np.array(inequality_cost + equality_cost).reshape((-1,1))\n",
    "\n",
    "        if any(sigma >= sigma_max):\n",
    "            break\n",
    "        if norm(cost, np.inf) > 0.25 * norm(previous_cost, np.inf):\n",
    "            for i in range(num_c):\n",
    "                if np.abs(cost[i]) > 0.25 * norm(previous_cost, np.inf):\n",
    "                    sigma[i] *= 10\n",
    "            continue\n",
    "        lambd = lambd - (sigma * cost)\n",
    "        minimum = cost_function(x)\n",
    "        x_history.append(x), V_history.append(minimum)\n",
    "        j += 1\n",
    "        if log and j % 1e2 == 0: \n",
    "            print(f'x = {x}, V(x) = {minimum:.5f}')\n",
    "    if track_history:\n",
    "        return x, minimum, x_history, V_history\n",
    "    else:\n",
    "        return x, minimum\n",
    "    "
   ]
  },
  {
   "cell_type": "code",
   "execution_count": 18,
   "metadata": {},
   "outputs": [
    {
     "ename": "KeyboardInterrupt",
     "evalue": "",
     "output_type": "error",
     "traceback": [
      "\u001b[0;31m---------------------------------------------------------------------------\u001b[0m",
      "\u001b[0;31mKeyboardInterrupt\u001b[0m                         Traceback (most recent call last)",
      "\u001b[1;32m/Users/alixdanglejan-chatillon/Code/ECSE507Final/OptimizationFinal/al.ipynb Cell 3'\u001b[0m in \u001b[0;36m<cell line: 11>\u001b[0;34m()\u001b[0m\n\u001b[1;32m      <a href='vscode-notebook-cell:/Users/alixdanglejan-chatillon/Code/ECSE507Final/OptimizationFinal/al.ipynb#ch0000003?line=7'>8</a>\u001b[0m gradient_function \u001b[39m=\u001b[39m \u001b[39mNone\u001b[39;00m\n\u001b[1;32m      <a href='vscode-notebook-cell:/Users/alixdanglejan-chatillon/Code/ECSE507Final/OptimizationFinal/al.ipynb#ch0000003?line=8'>9</a>\u001b[0m x0 \u001b[39m=\u001b[39m np\u001b[39m.\u001b[39mzeros(\u001b[39m2\u001b[39m)\n\u001b[0;32m---> <a href='vscode-notebook-cell:/Users/alixdanglejan-chatillon/Code/ECSE507Final/OptimizationFinal/al.ipynb#ch0000003?line=10'>11</a>\u001b[0m x, minimum \u001b[39m=\u001b[39m augmented_lagrangian(x0,\n\u001b[1;32m     <a href='vscode-notebook-cell:/Users/alixdanglejan-chatillon/Code/ECSE507Final/OptimizationFinal/al.ipynb#ch0000003?line=11'>12</a>\u001b[0m                     cost_function, \n\u001b[1;32m     <a href='vscode-notebook-cell:/Users/alixdanglejan-chatillon/Code/ECSE507Final/OptimizationFinal/al.ipynb#ch0000003?line=12'>13</a>\u001b[0m                     equality_constraints, \n\u001b[1;32m     <a href='vscode-notebook-cell:/Users/alixdanglejan-chatillon/Code/ECSE507Final/OptimizationFinal/al.ipynb#ch0000003?line=13'>14</a>\u001b[0m                     inequality_constraints,\n\u001b[1;32m     <a href='vscode-notebook-cell:/Users/alixdanglejan-chatillon/Code/ECSE507Final/OptimizationFinal/al.ipynb#ch0000003?line=14'>15</a>\u001b[0m                     log \u001b[39m=\u001b[39;49m \u001b[39mTrue\u001b[39;49;00m)\n\u001b[1;32m     <a href='vscode-notebook-cell:/Users/alixdanglejan-chatillon/Code/ECSE507Final/OptimizationFinal/al.ipynb#ch0000003?line=15'>16</a>\u001b[0m x, minimum\n",
      "\u001b[1;32m/Users/alixdanglejan-chatillon/Code/ECSE507Final/OptimizationFinal/al.ipynb Cell 2'\u001b[0m in \u001b[0;36maugmented_lagrangian\u001b[0;34m(x0, cost_function, equality_constraints, inequality_constraints, threshold, sigma_max, track_history, log)\u001b[0m\n\u001b[1;32m     <a href='vscode-notebook-cell:/Users/alixdanglejan-chatillon/Code/ECSE507Final/OptimizationFinal/al.ipynb#ch0000002?line=40'>41</a>\u001b[0m j \u001b[39m=\u001b[39m \u001b[39m0\u001b[39m\n\u001b[1;32m     <a href='vscode-notebook-cell:/Users/alixdanglejan-chatillon/Code/ECSE507Final/OptimizationFinal/al.ipynb#ch0000002?line=41'>42</a>\u001b[0m \u001b[39mwhile\u001b[39;00m norm(cost) \u001b[39m>\u001b[39m threshold: \n\u001b[0;32m---> <a href='vscode-notebook-cell:/Users/alixdanglejan-chatillon/Code/ECSE507Final/OptimizationFinal/al.ipynb#ch0000002?line=43'>44</a>\u001b[0m     x,_ \u001b[39m=\u001b[39m steepest_descent(x,\n\u001b[1;32m     <a href='vscode-notebook-cell:/Users/alixdanglejan-chatillon/Code/ECSE507Final/OptimizationFinal/al.ipynb#ch0000002?line=44'>45</a>\u001b[0m                            phi,\n\u001b[1;32m     <a href='vscode-notebook-cell:/Users/alixdanglejan-chatillon/Code/ECSE507Final/OptimizationFinal/al.ipynb#ch0000002?line=45'>46</a>\u001b[0m                            \u001b[39mNone\u001b[39;49;00m,\n\u001b[1;32m     <a href='vscode-notebook-cell:/Users/alixdanglejan-chatillon/Code/ECSE507Final/OptimizationFinal/al.ipynb#ch0000002?line=46'>47</a>\u001b[0m                            step_size \u001b[39m=\u001b[39;49m \u001b[39m'\u001b[39;49m\u001b[39marmijo\u001b[39;49m\u001b[39m'\u001b[39;49m,\n\u001b[1;32m     <a href='vscode-notebook-cell:/Users/alixdanglejan-chatillon/Code/ECSE507Final/OptimizationFinal/al.ipynb#ch0000002?line=47'>48</a>\u001b[0m                            threshold \u001b[39m=\u001b[39;49m threshold, \n\u001b[1;32m     <a href='vscode-notebook-cell:/Users/alixdanglejan-chatillon/Code/ECSE507Final/OptimizationFinal/al.ipynb#ch0000002?line=48'>49</a>\u001b[0m                            max_iter \u001b[39m=\u001b[39;49m \u001b[39m1e3\u001b[39;49m)\n\u001b[1;32m     <a href='vscode-notebook-cell:/Users/alixdanglejan-chatillon/Code/ECSE507Final/OptimizationFinal/al.ipynb#ch0000002?line=49'>50</a>\u001b[0m     previous_cost \u001b[39m=\u001b[39m cost\n\u001b[1;32m     <a href='vscode-notebook-cell:/Users/alixdanglejan-chatillon/Code/ECSE507Final/OptimizationFinal/al.ipynb#ch0000002?line=50'>51</a>\u001b[0m     inequality_cost \u001b[39m=\u001b[39m [cost(x) \u001b[39mfor\u001b[39;00m cost \u001b[39min\u001b[39;00m equality_constraints]\n",
      "File \u001b[0;32m~/Code/ECSE507Final/OptimizationFinal/algorithms.py:84\u001b[0m, in \u001b[0;36msteepest_descent\u001b[0;34m(x0, cost_function, gradient_function, step_size, threshold, log, h, max_iter, gamma, r, fd_method, track_history)\u001b[0m\n\u001b[1;32m     <a href='file:///Users/alixdanglejan-chatillon/Code/ECSE507Final/OptimizationFinal/algorithms.py?line=81'>82</a>\u001b[0m \u001b[39m#determine step size\u001b[39;00m\n\u001b[1;32m     <a href='file:///Users/alixdanglejan-chatillon/Code/ECSE507Final/OptimizationFinal/algorithms.py?line=82'>83</a>\u001b[0m     \u001b[39mif\u001b[39;00m step_size \u001b[39m==\u001b[39m \u001b[39m'\u001b[39m\u001b[39marmijo\u001b[39m\u001b[39m'\u001b[39m:                      \n\u001b[0;32m---> <a href='file:///Users/alixdanglejan-chatillon/Code/ECSE507Final/OptimizationFinal/algorithms.py?line=83'>84</a>\u001b[0m         w \u001b[39m=\u001b[39m armijo(x, cost_function, gradient, search_dir\u001b[39m=\u001b[39;49msearch_dir\u001b[39m.\u001b[39;49mflatten(), gamma \u001b[39m=\u001b[39;49m gamma, r \u001b[39m=\u001b[39;49m r, log\u001b[39m=\u001b[39;49m\u001b[39mFalse\u001b[39;49;00m)\n\u001b[1;32m     <a href='file:///Users/alixdanglejan-chatillon/Code/ECSE507Final/OptimizationFinal/algorithms.py?line=84'>85</a>\u001b[0m     \u001b[39melif\u001b[39;00m \u001b[39misinstance\u001b[39m(step_size, (\u001b[39mint\u001b[39m, \u001b[39mfloat\u001b[39m)):\n\u001b[1;32m     <a href='file:///Users/alixdanglejan-chatillon/Code/ECSE507Final/OptimizationFinal/algorithms.py?line=85'>86</a>\u001b[0m         w \u001b[39m=\u001b[39m step_size\n",
      "File \u001b[0;32m~/Code/ECSE507Final/OptimizationFinal/algorithms.py:432\u001b[0m, in \u001b[0;36marmijo\u001b[0;34m(x, cost_function, gradient, search_dir, gamma, r, log)\u001b[0m\n\u001b[1;32m    <a href='file:///Users/alixdanglejan-chatillon/Code/ECSE507Final/OptimizationFinal/algorithms.py?line=429'>430</a>\u001b[0m \u001b[39m# propogate backwards\u001b[39;00m\n\u001b[1;32m    <a href='file:///Users/alixdanglejan-chatillon/Code/ECSE507Final/OptimizationFinal/algorithms.py?line=430'>431</a>\u001b[0m w \u001b[39m=\u001b[39m r\u001b[39m*\u001b[39m\u001b[39m*\u001b[39mq \u001b[39m*\u001b[39m gamma\u001b[39m*\u001b[39m\u001b[39m*\u001b[39mp\n\u001b[0;32m--> <a href='file:///Users/alixdanglejan-chatillon/Code/ECSE507Final/OptimizationFinal/algorithms.py?line=431'>432</a>\u001b[0m \u001b[39mwhile\u001b[39;00m cost_function(x \u001b[39m+\u001b[39;49m w\u001b[39m*\u001b[39;49msearch_dir) \u001b[39m>\u001b[39m v_bar(w): \n\u001b[1;32m    <a href='file:///Users/alixdanglejan-chatillon/Code/ECSE507Final/OptimizationFinal/algorithms.py?line=432'>433</a>\u001b[0m     \u001b[39m# increment q\u001b[39;00m\n\u001b[1;32m    <a href='file:///Users/alixdanglejan-chatillon/Code/ECSE507Final/OptimizationFinal/algorithms.py?line=433'>434</a>\u001b[0m     q \u001b[39m+\u001b[39m\u001b[39m=\u001b[39m \u001b[39m1\u001b[39m\n\u001b[1;32m    <a href='file:///Users/alixdanglejan-chatillon/Code/ECSE507Final/OptimizationFinal/algorithms.py?line=434'>435</a>\u001b[0m     \u001b[39m# consider step size w\u001b[39;00m\n",
      "\u001b[1;32m/Users/alixdanglejan-chatillon/Code/ECSE507Final/OptimizationFinal/al.ipynb Cell 2'\u001b[0m in \u001b[0;36maugmented_lagrangian.<locals>.phi\u001b[0;34m(x)\u001b[0m\n\u001b[1;32m     <a href='vscode-notebook-cell:/Users/alixdanglejan-chatillon/Code/ECSE507Final/OptimizationFinal/al.ipynb#ch0000002?line=19'>20</a>\u001b[0m \u001b[39mfor\u001b[39;00m i,constraint \u001b[39min\u001b[39;00m \u001b[39menumerate\u001b[39m(inequality_constraints):\n\u001b[1;32m     <a href='vscode-notebook-cell:/Users/alixdanglejan-chatillon/Code/ECSE507Final/OptimizationFinal/al.ipynb#ch0000002?line=20'>21</a>\u001b[0m     ic \u001b[39m=\u001b[39m constraint(x)\n\u001b[0;32m---> <a href='vscode-notebook-cell:/Users/alixdanglejan-chatillon/Code/ECSE507Final/OptimizationFinal/al.ipynb#ch0000002?line=21'>22</a>\u001b[0m     \u001b[39mif\u001b[39;00m ic \u001b[39m<\u001b[39;49m\u001b[39m=\u001b[39;49m sigma_ineq[i] \u001b[39m/\u001b[39;49m sigma_ineq[i]: \n\u001b[1;32m     <a href='vscode-notebook-cell:/Users/alixdanglejan-chatillon/Code/ECSE507Final/OptimizationFinal/al.ipynb#ch0000002?line=22'>23</a>\u001b[0m         t \u001b[39m=\u001b[39m \u001b[39m-\u001b[39mlambda_ineq[i] \u001b[39m*\u001b[39m ic \u001b[39m+\u001b[39m \u001b[39m0.5\u001b[39m \u001b[39m*\u001b[39m sigma_ineq[i] \u001b[39m*\u001b[39m ic\u001b[39m*\u001b[39m\u001b[39m*\u001b[39m\u001b[39m2\u001b[39m \n\u001b[1;32m     <a href='vscode-notebook-cell:/Users/alixdanglejan-chatillon/Code/ECSE507Final/OptimizationFinal/al.ipynb#ch0000002?line=23'>24</a>\u001b[0m     \u001b[39melse\u001b[39;00m:\n",
      "\u001b[0;31mKeyboardInterrupt\u001b[0m: "
     ]
    }
   ],
   "source": [
    "\n",
    "\n",
    "\n",
    "v = lambda x: -x[0] * x[1]\n",
    "h1 = lambda x: -x[0] - x[1]**2 + 1\n",
    "h2 = lambda x: x[0] + x[1]\n",
    "\n",
    "cost_function = v\n",
    "inequality_constraints = [h1, h2]\n",
    "equality_constraints = []\n",
    "gradient_function = None\n",
    "x0 = np.zeros(2)\n",
    "\n",
    "x, minimum = augmented_lagrangian(x0,\n",
    "                    cost_function, \n",
    "                    equality_constraints, \n",
    "                    inequality_constraints,\n",
    "                    log = True)\n",
    "x, minimum "
   ]
  },
  {
   "cell_type": "code",
   "execution_count": null,
   "metadata": {},
   "outputs": [],
   "source": []
  }
 ],
 "metadata": {
  "interpreter": {
   "hash": "5e730323216fec8a00495a18d5e26a9184315a136cb5e6ee6f99d5a78808c1dd"
  },
  "kernelspec": {
   "display_name": "Python 3.9.1 ('env': venv)",
   "language": "python",
   "name": "python3"
  },
  "language_info": {
   "codemirror_mode": {
    "name": "ipython",
    "version": 3
   },
   "file_extension": ".py",
   "mimetype": "text/x-python",
   "name": "python",
   "nbconvert_exporter": "python",
   "pygments_lexer": "ipython3",
   "version": "3.9.1"
  },
  "orig_nbformat": 4
 },
 "nbformat": 4,
 "nbformat_minor": 2
}
