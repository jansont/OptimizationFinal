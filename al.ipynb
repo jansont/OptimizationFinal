{
 "cells": [
  {
   "cell_type": "code",
   "execution_count": 370,
   "metadata": {},
   "outputs": [],
   "source": [
    "import numpy as np\n",
    "from algorithms import steepest_descent, conjugate_gradient, secant, Finite_Difference, armijo\n",
    "from cost_functions import V_a, gradV_a, V_b, gradV_b\n",
    "from numpy.linalg import norm, eig\n",
    "from functools import partial\n",
    "import time\n",
    "\n",
    "\n"
   ]
  },
  {
   "cell_type": "code",
   "execution_count": 371,
   "metadata": {},
   "outputs": [],
   "source": [
    "def augmented_lagrangian(x0, \n",
    "                         cost_function, \n",
    "                         equality_constraints = None, \n",
    "                         inequality_constraints = None,\n",
    "                         threshold = 1e-3, \n",
    "                         sigma_max = 1e12, \n",
    "                         track_history = False, \n",
    "                         log = False):\n",
    "    class P:\n",
    "        def __init__(self, lambd, sigma):\n",
    "            self.lambd = lambd\n",
    "            self.sigma = sigma\n",
    "\n",
    "        def phi(self, x):\n",
    "            cost = cost_function(x)\n",
    "            lambda_eq = lambd[:num_ec , :]\n",
    "            lambda_ineq = lambd[num_ec:num_c , :]\n",
    "            sigma_eq = sigma[:num_ec , :]\n",
    "            sigma_ineq = sigma[num_ec:num_c , :]\n",
    "\n",
    "            ecs = np.array([ec(x) for ec in equality_constraints])\n",
    "            cost = cost - sum(lambda_eq * ecs) + 0.5 * sum(sigma_eq * ecs**2)\n",
    "            \n",
    "            for i, ineq in enumerate(inequality_constraints):\n",
    "                ic = ineq(x)\n",
    "                if ic <= lambda_ineq[i] / sigma_ineq[i]:\n",
    "                    p_i = np.array([-lambda_ineq[i] * ic + 0.5 * sigma_ineq[i] * ic**2])\n",
    "                else: \n",
    "                    p_i = np.array([-0.5 * lambda_ineq[i]**2 / sigma_ineq[i] ])\n",
    "                cost = cost + p_i\n",
    "\n",
    "            return cost\n",
    "\n",
    "    x_history, V_history = [],[]\n",
    "    num_ec = len(equality_constraints)\n",
    "    num_ic = len(inequality_constraints)\n",
    "    num_c = num_ec + num_ic\n",
    "\n",
    "    lambd = np.zeros((num_c,1))\n",
    "    sigma = np.ones((num_c,1))\n",
    "\n",
    "    c = 1e12 * sigma\n",
    "    x = x0\n",
    "    minimum = cost_function(x)\n",
    "    x_history.append(x), V_history.append(minimum)\n",
    "    j = 0\n",
    "    while norm(c) > threshold and all(sigma < sigma_max): \n",
    "        p = P(lambd, sigma)\n",
    "        x,_ = steepest_descent(x,\n",
    "                               p.phi,\n",
    "                               None,\n",
    "                               step_size = 'armijo',\n",
    "                               threshold = 1e-6, \n",
    "                               max_iter = 1e3, \n",
    "                               fd_method = 'forward')\n",
    "\n",
    "        previous_cost = c\n",
    "        inequality_cost = [const(x) for const in inequality_constraints]\n",
    "        equality_cost = [const(x) for const in equality_constraints]\n",
    "        c = equality_cost + inequality_cost \n",
    "\n",
    "        if norm(c, np.inf) > 0.25 * norm(previous_cost, np.inf):\n",
    "            for i in range(num_c):\n",
    "                if np.abs(c[i]) > 0.25 * norm(previous_cost, np.inf):\n",
    "                    sigma[i] *= 10\n",
    "            continue\n",
    "        lambd = lambd - sigma * c\n",
    "\n",
    "        minimum = cost_function(x)\n",
    "        x_history.append(x), V_history.append(minimum)\n",
    "        j += 1\n",
    "        # if log:\n",
    "        #     print(f'x = {x}, V(x) = {minimum:.5f}')\n",
    "            \n",
    "    if track_history:\n",
    "        return x, minimum, x_history, V_history\n",
    "    else:\n",
    "        return x, cost_function(x)\n",
    "    "
   ]
  },
  {
   "cell_type": "code",
   "execution_count": 372,
   "metadata": {},
   "outputs": [
    {
     "data": {
      "text/plain": [
       "(array([[0.71594633],\n",
       "        [0.71594615]]),\n",
       " array([1.56810752]))"
      ]
     },
     "execution_count": 372,
     "metadata": {},
     "output_type": "execute_result"
    }
   ],
   "source": [
    "def V_1(x):\n",
    "    return np.abs(x[0]-1) + np.abs(x[1]-2)\n",
    "\n",
    "def h1_1(x):\n",
    "    return x[0]-x[1]**2\n",
    "\n",
    "def h2_1(x):\n",
    "    return x[0]**2 + x[1]**2 - 1\n",
    "\n",
    "x0 = np.array([[1.5], [-1.5]])\n",
    "\n",
    "\n",
    "cost_function = V_1\n",
    "inequality_constraints = [h1_1]\n",
    "equality_constraints = [h2_1]\n",
    "gradient_function = None\n",
    "\n",
    "x, minimum = augmented_lagrangian(x0,\n",
    "                    cost_function, \n",
    "                    equality_constraints, \n",
    "                    inequality_constraints,\n",
    "                    log = True)\n",
    "x, minimum"
   ]
  },
  {
   "cell_type": "code",
   "execution_count": 379,
   "metadata": {},
   "outputs": [
    {
     "name": "stderr",
     "output_type": "stream",
     "text": [
      "/var/folders/k5/vn3k1nw15mv2z0p8ww8lv16r0000gn/T/ipykernel_92684/2501215019.py:2: RuntimeWarning: invalid value encountered in log\n",
      "  return np.log(x[0]) - x[1]\n"
     ]
    },
    {
     "data": {
      "text/plain": [
       "(array([[nan],\n",
       "        [nan]]),\n",
       " array([nan]))"
      ]
     },
     "execution_count": 379,
     "metadata": {},
     "output_type": "execute_result"
    }
   ],
   "source": [
    "def V_3(x):\n",
    "    return np.log(x[0]) - x[1]\n",
    "\n",
    "def h1_3(x):\n",
    "    return x[0]-1\n",
    "\n",
    "def h2_3(x):\n",
    "    return x[0]**2 + x[1]**2 - 4\n",
    "\n",
    "\n",
    "x0 = np.array([[2.], [1.5]])\n",
    "\n",
    "\n",
    "cost_function = V_3\n",
    "inequality_constraints = [h1_3]\n",
    "equality_constraints = [h2_3]\n",
    "gradient_function = None\n",
    "\n",
    "x, minimum = augmented_lagrangian(x0,\n",
    "                    cost_function, \n",
    "                    equality_constraints, \n",
    "                    inequality_constraints,\n",
    "                    log = True)\n",
    "x, minimum"
   ]
  },
  {
   "cell_type": "code",
   "execution_count": 376,
   "metadata": {},
   "outputs": [
    {
     "data": {
      "text/plain": [
       "(array([[0.6725883 ],\n",
       "        [0.57990867]]),\n",
       " array([-0.39003979]))"
      ]
     },
     "execution_count": 376,
     "metadata": {},
     "output_type": "execute_result"
    }
   ],
   "source": [
    "\n",
    "def v(x):\n",
    "   return  -x[0]*x[1]\n",
    "\n",
    "def h1(x):\n",
    "    return -x[0]-x[1]**2 + 1\n",
    "\n",
    "def h2(x):\n",
    "    return x[0]**2 + x[1]**2\n",
    "\n",
    "x0 = np.array([[1.0], [1.0]])\n",
    "\n",
    "\n",
    "cost_function = v\n",
    "inequality_constraints = [h1, h2]\n",
    "equality_constraints = []\n",
    "gradient_function = None\n",
    "\n",
    "x, minimum = augmented_lagrangian(x0,\n",
    "                    cost_function, \n",
    "                    equality_constraints, \n",
    "                    inequality_constraints)\n",
    "x, minimum \n",
    "\n"
   ]
  },
  {
   "cell_type": "code",
   "execution_count": null,
   "metadata": {},
   "outputs": [],
   "source": []
  }
 ],
 "metadata": {
  "interpreter": {
   "hash": "5e730323216fec8a00495a18d5e26a9184315a136cb5e6ee6f99d5a78808c1dd"
  },
  "kernelspec": {
   "display_name": "Python 3.9.1 ('env': venv)",
   "language": "python",
   "name": "python3"
  },
  "language_info": {
   "codemirror_mode": {
    "name": "ipython",
    "version": 3
   },
   "file_extension": ".py",
   "mimetype": "text/x-python",
   "name": "python",
   "nbconvert_exporter": "python",
   "pygments_lexer": "ipython3",
   "version": "3.9.1"
  },
  "orig_nbformat": 4
 },
 "nbformat": 4,
 "nbformat_minor": 2
}
